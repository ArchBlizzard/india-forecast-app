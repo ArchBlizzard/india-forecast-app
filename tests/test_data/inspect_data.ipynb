{
 "cells": [
  {
   "cell_type": "code",
   "execution_count": 2,
   "id": "initial_id",
   "metadata": {
    "collapsed": true,
    "ExecuteTime": {
     "end_time": "2024-02-14T11:43:09.199372Z",
     "start_time": "2024-02-14T11:43:08.541738Z"
    }
   },
   "outputs": [],
   "source": [
    "import xarray as xr"
   ]
  },
  {
   "cell_type": "code",
   "outputs": [
    {
     "name": "stdout",
     "output_type": "stream",
     "text": [
      "<xarray.DataArray 'time_utc' (time_utc: 163680)>\n",
      "array(['2019-06-15T09:45:00.000000000', '2019-06-15T10:00:00.000000000',\n",
      "       '2019-06-15T10:15:00.000000000', ..., '2024-02-14T09:00:00.000000000',\n",
      "       '2024-02-14T09:15:00.000000000', '2024-02-14T09:30:00.000000000'],\n",
      "      dtype='datetime64[ns]')\n",
      "Coordinates:\n",
      "  * time_utc  (time_utc) datetime64[ns] 2019-06-15T09:45:00 ... 2024-02-14T09...\n"
     ]
    }
   ],
   "source": [
    "ds = xr.open_dataset(\"../../data/wind/wind_data.nc\")\n",
    "# ds = xr.open_dataset(\"wind/wind_data.nc\") # Test data\n",
    "print(ds[\"time_utc\"])"
   ],
   "metadata": {
    "collapsed": false,
    "ExecuteTime": {
     "end_time": "2024-02-14T11:43:10.640355Z",
     "start_time": "2024-02-14T11:43:09.958557Z"
    }
   },
   "id": "8ef26c400e24207b",
   "execution_count": 3
  },
  {
   "cell_type": "code",
   "outputs": [
    {
     "name": "stdout",
     "output_type": "stream",
     "text": [
      "<xarray.DataArray 'init_time' (init_time: 1)>\n",
      "array(['2024-02-14T09:00:00.000000000'], dtype='datetime64[ns]')\n",
      "Coordinates:\n",
      "  * init_time  (init_time) datetime64[ns] 2024-02-14T09:00:00\n",
      "Attributes:\n",
      "    long_name:      initial time of forecast\n",
      "    standard_name:  forecast_reference_time\n"
     ]
    }
   ],
   "source": [
    "ds = xr.open_zarr(\"../../data/nwp.zarr\")\n",
    "# ds = xr.open_zarr(\"nwp.zarr\") # test data\n",
    "print(ds['init_time'])"
   ],
   "metadata": {
    "collapsed": false,
    "ExecuteTime": {
     "end_time": "2024-02-14T11:43:12.064264Z",
     "start_time": "2024-02-14T11:43:11.971095Z"
    }
   },
   "id": "3f6edf56ab0fb0f7",
   "execution_count": 4
  },
  {
   "cell_type": "code",
   "outputs": [],
   "source": [],
   "metadata": {
    "collapsed": false
   },
   "id": "e347386d1fc925d1"
  }
 ],
 "metadata": {
  "kernelspec": {
   "display_name": "Python 3",
   "language": "python",
   "name": "python3"
  },
  "language_info": {
   "codemirror_mode": {
    "name": "ipython",
    "version": 2
   },
   "file_extension": ".py",
   "mimetype": "text/x-python",
   "name": "python",
   "nbconvert_exporter": "python",
   "pygments_lexer": "ipython2",
   "version": "2.7.6"
  }
 },
 "nbformat": 4,
 "nbformat_minor": 5
}
