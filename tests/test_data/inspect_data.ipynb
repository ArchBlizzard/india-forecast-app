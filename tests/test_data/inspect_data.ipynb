{
 "cells": [
  {
   "cell_type": "code",
   "execution_count": 28,
   "id": "initial_id",
   "metadata": {
    "collapsed": true,
    "ExecuteTime": {
     "end_time": "2024-02-14T16:18:21.547026Z",
     "start_time": "2024-02-14T16:18:19.852866Z"
    }
   },
   "outputs": [
    {
     "name": "stdout",
     "output_type": "stream",
     "text": [
      "Requirement already satisfied: numcodecs in /Users/chris/Library/Caches/pypoetry/virtualenvs/india-forecast-app-_WmL7Pf1-py3.11/lib/python3.11/site-packages (0.12.1)\r\n",
      "Requirement already satisfied: numpy>=1.7 in /Users/chris/Library/Caches/pypoetry/virtualenvs/india-forecast-app-_WmL7Pf1-py3.11/lib/python3.11/site-packages (from numcodecs) (1.26.4)\r\n",
      "\r\n",
      "\u001B[1m[\u001B[0m\u001B[34;49mnotice\u001B[0m\u001B[1;39;49m]\u001B[0m\u001B[39;49m A new release of pip is available: \u001B[0m\u001B[31;49m23.3.1\u001B[0m\u001B[39;49m -> \u001B[0m\u001B[32;49m24.0\u001B[0m\r\n",
      "\u001B[1m[\u001B[0m\u001B[34;49mnotice\u001B[0m\u001B[1;39;49m]\u001B[0m\u001B[39;49m To update, run: \u001B[0m\u001B[32;49mpip install --upgrade pip\u001B[0m\r\n"
     ]
    }
   ],
   "source": [
    "import xarray as xr"
   ]
  },
  {
   "cell_type": "code",
   "outputs": [
    {
     "name": "stdout",
     "output_type": "stream",
     "text": [
      "ItemsView(<xarray.Dataset>\n",
      "Dimensions:                     (pv__time_utc: 197, pv__pv_system_id: 1,\n",
      "                                 nwp-ecmwf__latitude: 168,\n",
      "                                 nwp-ecmwf__longitude: 168,\n",
      "                                 nwp-ecmwf__channel: 12,\n",
      "                                 nwp-ecmwf__target_time_utc: 50)\n",
      "Coordinates: (12/13)\n",
      "  * pv__time_utc                (pv__time_utc) datetime64[ns] 2023-02-27T10:0...\n",
      "  * pv__pv_system_id            (pv__pv_system_id) int64 0\n",
      "    pv__observed_capacity_wp    (pv__pv_system_id) float64 ...\n",
      "    pv__nominal_capacity_wp     (pv__pv_system_id) float64 ...\n",
      "    pv__ml_id                   (pv__pv_system_id) float64 ...\n",
      "    pv__longitude               (pv__pv_system_id) float64 ...\n",
      "    ...                          ...\n",
      "  * nwp-ecmwf__latitude         (nwp-ecmwf__latitude) float64 30.65 ... 22.3\n",
      "  * nwp-ecmwf__longitude        (nwp-ecmwf__longitude) float64 70.45 ... 78.8\n",
      "  * nwp-ecmwf__channel          (nwp-ecmwf__channel) <U5 'hcc' 'lcc' ... 'dswrf'\n",
      "  * nwp-ecmwf__target_time_utc  (nwp-ecmwf__target_time_utc) datetime64[ns] 2...\n",
      "    nwp-ecmwf__init_time_utc    datetime64[ns] ...\n",
      "    nwp-ecmwf__step             (nwp-ecmwf__target_time_utc) timedelta64[ns] ...\n",
      "Data variables:\n",
      "    pv                          (pv__time_utc, pv__pv_system_id) float32 ...\n",
      "    nwp-ecmwf                   (nwp-ecmwf__target_time_utc, nwp-ecmwf__channel, nwp-ecmwf__latitude, nwp-ecmwf__longitude) float32 ...)\n"
     ]
    }
   ],
   "source": [
    "ds = xr.open_dataset(\"~/Downloads/000000.nc\")\n",
    "# ds = xr.open_dataset(\"../../data/wind/wind_data.nc\")\n",
    "# ds = xr.open_dataset(\"wind/wind_data.nc\") # Test data\n",
    "print(ds.items())"
   ],
   "metadata": {
    "collapsed": false,
    "ExecuteTime": {
     "end_time": "2024-02-14T16:39:41.780845Z",
     "start_time": "2024-02-14T16:39:41.691233Z"
    }
   },
   "id": "8ef26c400e24207b",
   "execution_count": 36
  },
  {
   "cell_type": "code",
   "outputs": [
    {
     "name": "stdout",
     "output_type": "stream",
     "text": [
      "<xarray.Dataset>\n",
      "Dimensions:    (init_time: 1, latitude: 221, longitude: 221, step: 85,\n",
      "                variable: 17)\n",
      "Coordinates:\n",
      "  * init_time  (init_time) datetime64[ns] 2023-05-21\n",
      "  * latitude   (latitude) float64 31.0 30.95 30.9 30.85 ... 20.1 20.05 20.0\n",
      "  * longitude  (longitude) float64 68.0 68.05 68.1 68.15 ... 78.9 78.95 79.0\n",
      "  * step       (step) timedelta64[ns] 00:00:00 01:00:00 ... 3 days 12:00:00\n",
      "  * variable   (variable) object 'dlwrf' 'dswrf' 'duvrs' ... 'v10' 'v100' 'v200'\n",
      "Data variables:\n",
      "    *empty*\n"
     ]
    }
   ],
   "source": [
    "# ds = xr.open_zarr(\"../../data/nwp.zarr\")\n",
    "ds = xr.open_zarr(\"nwp.zarr.bak\") # test data\n",
    "print(ds)"
   ],
   "metadata": {
    "collapsed": false,
    "ExecuteTime": {
     "end_time": "2024-02-14T16:41:53.106778Z",
     "start_time": "2024-02-14T16:41:53.095116Z"
    }
   },
   "id": "3f6edf56ab0fb0f7",
   "execution_count": 38
  },
  {
   "cell_type": "code",
   "outputs": [],
   "source": [],
   "metadata": {
    "collapsed": false
   },
   "id": "e347386d1fc925d1"
  }
 ],
 "metadata": {
  "kernelspec": {
   "display_name": "Python 3",
   "language": "python",
   "name": "python3"
  },
  "language_info": {
   "codemirror_mode": {
    "name": "ipython",
    "version": 2
   },
   "file_extension": ".py",
   "mimetype": "text/x-python",
   "name": "python",
   "nbconvert_exporter": "python",
   "pygments_lexer": "ipython2",
   "version": "2.7.6"
  }
 },
 "nbformat": 4,
 "nbformat_minor": 5
}
